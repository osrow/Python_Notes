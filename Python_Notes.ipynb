{
 "cells": [
  {
   "cell_type": "markdown",
   "metadata": {},
   "source": [
    "# Python Notes"
   ]
  },
  {
   "cell_type": "markdown",
   "metadata": {},
   "source": [
    "---\n",
    "<a id='top'></a>\n",
    "## Contents:\n",
    "* [Basics](#basics)\n",
    "* [Random Functions](#random_functions)\n",
    "--- "
   ]
  },
  {
   "cell_type": "markdown",
   "metadata": {},
   "source": [
    "## Basics  <a id='basics'></a>"
   ]
  },
  {
   "cell_type": "markdown",
   "metadata": {},
   "source": [
    "<u>Cell Actions:</u>\n",
    "* H: Keyboard shortcuts\n",
    "* Ctrl Shift P: Command Palette\n",
    "* Enter/Esc: Edit/Command mode\n",
    "* M/Y: Markdown/Code\n",
    "* L: Line numbers\n",
    "* A/B: Insert cell above, below\n",
    "* DD : Delete cell\n",
    "* (Esc) S: Save\n",
    "* %/%%: Line/Cell magics (e.g. timeit, pdb)\n",
    "* ` Code, ``` Code Block\n",
    "* `$`Math, $$ Math Block (a [ref](https://latex-tutorial.com/tutorials/amsmath/) for LaTex Math)\n",
    "    \n",
    "<u>Code Actions:</u>\n",
    "* Ctrl Enter: Run \n",
    "* Shift Enter: Run and go to the next cell\n",
    "* Ctrl /: Comment \n",
    "* Tab: Autocomplete\n",
    "* Shift Tab: Documentation (Shift Tab x2: more details)\n",
    "\n",
    "\n",
    "---"
   ]
  },
  {
   "cell_type": "markdown",
   "metadata": {},
   "source": [
    "### Sort lists"
   ]
  },
  {
   "cell_type": "code",
   "execution_count": 2,
   "metadata": {},
   "outputs": [
    {
     "name": "stdout",
     "output_type": "stream",
     "text": [
      "default: ['alpha', 'beta', 'epsilon']\n",
      "key: ['epsilon', 'alpha', 'beta']\n",
      "lambda as key: ['beta', 'alpha', 'epsilon']\n"
     ]
    }
   ],
   "source": [
    "data = ['epsilon','beta','alpha']\n",
    "data.sort()\n",
    "print('default:', data)\n",
    "\n",
    "data.sort(key=len, reverse=True)\n",
    "print('key:', data)\n",
    "\n",
    "data.sort(key=lambda x:x[1])\n",
    "print('lambda as key:', data)"
   ]
  },
  {
   "cell_type": "markdown",
   "metadata": {},
   "source": [
    "### Sort DF [(pandas)](https://pandas.pydata.org/pandas-docs/stable/reference/api/pandas.DataFrame.sort_values.html)"
   ]
  },
  {
   "cell_type": "code",
   "execution_count": 135,
   "metadata": {},
   "outputs": [
    {
     "name": "stdout",
     "output_type": "stream",
     "text": [
      "1.3.4 \n",
      "\n",
      "(6, 4) \n",
      "\n",
      "<class 'pandas.core.frame.DataFrame'>\n",
      "RangeIndex: 6 entries, 0 to 5\n",
      "Data columns (total 4 columns):\n",
      " #   Column  Non-Null Count  Dtype \n",
      "---  ------  --------------  ----- \n",
      " 0   col1    5 non-null      object\n",
      " 1   col2    6 non-null      int64 \n",
      " 2   col3    6 non-null      int64 \n",
      " 3   col4    6 non-null      object\n",
      "dtypes: int64(2), object(2)\n",
      "memory usage: 320.0+ bytes\n",
      "None \n",
      "\n",
      "           col2      col3\n",
      "count  6.000000  6.000000\n",
      "mean   5.166667  3.166667\n",
      "std    3.311596  3.188521\n",
      "min    1.000000  0.000000\n",
      "25%    2.500000  1.250000\n",
      "50%    5.500000  2.500000\n",
      "75%    7.750000  3.750000\n",
      "max    9.000000  9.000000 \n",
      "\n",
      "  col1  col2  col3 col4\n",
      "0    A     2     0    a\n",
      "1    A     1     1    B\n",
      "2    B     9     9    c\n",
      "3  NaN     8     4    D\n",
      "4    D     7     2    e\n",
      "5    C     4     3    F \n",
      "\n",
      "<class 'pandas.core.series.Series'>\n",
      "<class 'pandas.core.series.Series'>\n",
      "<class 'pandas.core.series.Series'>\n",
      "<class 'pandas.core.frame.DataFrame'> \n",
      "\n",
      "  col1  col2  col3 col4\n",
      "3  NaN     8     4    D\n",
      "4    D     7     2    e\n",
      "5    C     4     3    F\n",
      "2    B     9     9    c\n",
      "0    A     2     0    a\n",
      "1    A     1     1    B \n",
      "\n",
      "  col1  col2  col3 col4\n",
      "1    A     1     1    B\n",
      "0    A     2     0    a\n",
      "5    C     4     3    F\n",
      "4    D     7     2    e\n",
      "3  NaN     8     4    D\n",
      "2    B     9     9    c \n",
      "\n",
      "  col1  col2  col3 col4\n",
      "0    A     2     0    a\n",
      "1    A     1     1    B\n",
      "2    B     9     9    c\n",
      "3  NaN     8     4    D\n",
      "4    D     7     2    e\n",
      "5    C     4     3    F \n",
      "\n"
     ]
    }
   ],
   "source": [
    "import pandas as pd\n",
    "import numpy as np\n",
    "print(pd.__version__,'\\n')\n",
    "\n",
    "df = pd.DataFrame({\n",
    "    'col1': ['A', 'A', 'B', np.nan, 'D', 'C'],\n",
    "    'col2': [2, 1, 9, 8, 7, 4],\n",
    "    'col3': [0, 1, 9, 4, 2, 3],\n",
    "    'col4': ['a', 'B', 'c', 'D', 'e', 'F']\n",
    "})\n",
    "\n",
    "print(df.shape,'\\n')\n",
    "print(df.info(),'\\n')\n",
    "print(df.describe(),'\\n')\n",
    "print(df,\"\\n\")\n",
    "\n",
    "print(type(df.col1))\n",
    "print(type(df['col1']))\n",
    "print(type(df.loc[:,'col1']))\n",
    "print(type(df[['col1']]),'\\n')\n",
    "\n",
    "print(df.sort_values(by=['col1'], ascending=False, na_position='first'),\"\\n\")\n",
    "\n",
    "print(df.sort_values(by=['col2', 'col1']),\"\\n\")\n",
    "\n",
    "print(df.sort_values(by='col4', key=lambda col: col.str.lower()),\"\\n\")"
   ]
  },
  {
   "cell_type": "markdown",
   "metadata": {},
   "source": [
    "### Dictionary: switch keys and values"
   ]
  },
  {
   "cell_type": "code",
   "execution_count": 1,
   "metadata": {},
   "outputs": [
    {
     "name": "stdout",
     "output_type": "stream",
     "text": [
      "{'Randy': ['Input.txt', 'Output.txt'], 'Stan': ['Code.py']}\n"
     ]
    }
   ],
   "source": [
    "def group_by_owners(files):\n",
    "    owners = {}\n",
    "    for owner in files.values():\n",
    "        owners[owner] = []\n",
    "    for file, owner in files.items():\n",
    "        owners[owner].append(file)\n",
    "    return owners\n",
    "\n",
    "if __name__ == \"__main__\":    \n",
    "    files = {\n",
    "        'Input.txt': 'Randy',\n",
    "        'Code.py': 'Stan',\n",
    "        'Output.txt': 'Randy'\n",
    "    }   \n",
    "    print(group_by_owners(files))"
   ]
  },
  {
   "cell_type": "markdown",
   "metadata": {},
   "source": [
    "### List comprehensions"
   ]
  },
  {
   "cell_type": "code",
   "execution_count": 115,
   "metadata": {},
   "outputs": [
    {
     "data": {
      "text/plain": [
       "[[0, 1], [1, 2], [2, 3], [3, 4], [4, 5]]"
      ]
     },
     "execution_count": 115,
     "metadata": {},
     "output_type": "execute_result"
    }
   ],
   "source": [
    "[[i+j for i in range(2)] for j in range(5)]"
   ]
  },
  {
   "cell_type": "code",
   "execution_count": 117,
   "metadata": {
    "scrolled": true
   },
   "outputs": [
    {
     "data": {
      "text/plain": [
       "[9, 16, 25]"
      ]
     },
     "execution_count": 117,
     "metadata": {},
     "output_type": "execute_result"
    }
   ],
   "source": [
    "[i * j for i in range(2, 6) for j in range(3, 7) if i % j == 0]"
   ]
  },
  {
   "cell_type": "code",
   "execution_count": 108,
   "metadata": {},
   "outputs": [
    {
     "data": {
      "text/plain": [
       "{4: 10, 5: 11, 6: 12, 7: 13}"
      ]
     },
     "execution_count": 108,
     "metadata": {},
     "output_type": "execute_result"
    }
   ],
   "source": [
    "{x: x + y for x in range(4, 8) for y in range(3, 7)}"
   ]
  },
  {
   "cell_type": "code",
   "execution_count": 109,
   "metadata": {},
   "outputs": [
    {
     "data": {
      "text/plain": [
       "{'Nora': 78, 'Gino': 100, 'Lulu': 67}"
      ]
     },
     "execution_count": 109,
     "metadata": {},
     "output_type": "execute_result"
    }
   ],
   "source": [
    "grades = {\"Nora\": 78, \"Gino\": 100, \"Talina\": 56, \"Elizabeth\": 45, \"Lulu\": 67}\n",
    "approved_students = {student: grade for (student, grade) in grades.items() if grade >= 60}\n",
    "approved_students"
   ]
  },
  {
   "cell_type": "markdown",
   "metadata": {},
   "source": [
    "### Arrays"
   ]
  },
  {
   "cell_type": "code",
   "execution_count": 2,
   "metadata": {
    "scrolled": true
   },
   "outputs": [
    {
     "data": {
      "text/plain": [
       "array([[ 35, 132],\n",
       "       [ 47, 170]])"
      ]
     },
     "execution_count": 2,
     "metadata": {},
     "output_type": "execute_result"
    }
   ],
   "source": [
    "import numpy as np \n",
    "array_1 = np.array([[1, 2, 7], [3, 4, 8]])\n",
    "array_2 = np.array([[1, 2], [3, 9], [4, 16]])\n",
    "np.dot(array_1, array_2)"
   ]
  },
  {
   "cell_type": "markdown",
   "metadata": {},
   "source": [
    "### f-Strings & str.format"
   ]
  },
  {
   "cell_type": "code",
   "execution_count": 111,
   "metadata": {},
   "outputs": [
    {
     "name": "stdout",
     "output_type": "stream",
     "text": [
      "Hi, I'm Nora. I'm learning Python.\n",
      "Hi, I'm Nora. I'm learning Python.\n",
      "Hi, I'm Nora. I'm learning Python.\n"
     ]
    }
   ],
   "source": [
    "first_name = \"Nora\"\n",
    "favorite_language = \"Python\"\n",
    "\n",
    "print(f\"Hi, I'm {first_name}. I'm learning {favorite_language}.\")\n",
    "print(\"Hi, I'm {}. I'm learning {}.\".format(first_name, favorite_language)) \n",
    "#arguments can be indexed or key-worded as well\n",
    "print(\"Hi, I'm {0}. I'm learning {fl}.\".format(first_name, fl=favorite_language)) "
   ]
  },
  {
   "cell_type": "code",
   "execution_count": 44,
   "metadata": {},
   "outputs": [
    {
     "name": "stdout",
     "output_type": "stream",
     "text": [
      "Winners are:\n",
      "Adam\n",
      "Bob\n",
      "Cyril\n",
      "Winners are:\n",
      "Adam\n",
      "Bob\n",
      "Cyril\n",
      "Winners are:\n",
      "Adam\n",
      "Bob\n",
      "Cyril\n",
      "Hello World!\n",
      "Adam\n",
      "Bob\n",
      "Cyril\n"
     ]
    }
   ],
   "source": [
    "#from: https://stackoverflow.com/questions/44780357/how-to-use-newline-n-in-f-string-to-format-output-in-python-3-6\n",
    "names = ['Adam', 'Bob', 'Cyril']\n",
    "nl = '\\n'\n",
    "print(f\"Winners are:{nl}{nl.join(names)}\")\n",
    "\n",
    "n = \"\\n\".join(names)\n",
    "print(f\"Winners are:\\n{n}\")\n",
    "\n",
    "print('Winners are:', *names, sep='\\n')\n",
    "\n",
    "print(\"{\\\\} {*}\".format(**{\"\\\\\": 'Hello', \"*\": 'World!'}))\n",
    "\n",
    "print(\"{}\\n{}\\n{}\".format(names[0],names[1],names[2]))"
   ]
  },
  {
   "cell_type": "markdown",
   "metadata": {},
   "source": [
    "### (string methods [doc](https://docs.python.org/3/library/stdtypes.html#string-methods))\n",
    "---"
   ]
  },
  {
   "cell_type": "markdown",
   "metadata": {},
   "source": [
    "### Break & Continue"
   ]
  },
  {
   "cell_type": "code",
   "execution_count": 69,
   "metadata": {},
   "outputs": [
    {
     "name": "stdout",
     "output_type": "stream",
     "text": [
      "loop1\n",
      "Odd: 1\n",
      "Even: 2\n",
      "break\n",
      "\n",
      "loop2\n",
      "5\n",
      "7\n",
      "All numbers were odd\n",
      "\n",
      "loop3\n",
      "Odd: 1\n",
      "continue\n",
      "Odd: 3\n",
      "continue\n",
      "Odd: 5\n"
     ]
    }
   ],
   "source": [
    "my_list = [1, 2, 3, 4, 5]\n",
    "my_list2 = [1]\n",
    "\n",
    "#break: stop the loop\n",
    "print('loop1')\n",
    "for elem in my_list:\n",
    "    if elem % 2 == 0:\n",
    "        print(\"Even:\", elem)\n",
    "        print(\"break\")\n",
    "        break\n",
    "    else:\n",
    "        print(\"Odd:\", elem)\n",
    "\n",
    "#else can also be used for the for loop (runs if break doesn't run)\n",
    "print('\\nloop2')\n",
    "x = 5\n",
    "while x < 9:\n",
    "    if x % 2 == 0:\n",
    "        print(\"Even number found\")\n",
    "        break\n",
    "    print(x)\n",
    "    x += 2\n",
    "else:\n",
    "    print(\"All numbers were odd\")\n",
    "        \n",
    "#continue: skip the rest of iteration\n",
    "print('\\nloop3')\n",
    "for elem in my_list:\n",
    "    if elem % 2 == 0:\n",
    "        print(\"continue\")\n",
    "        continue\n",
    "    print(\"Odd:\", elem)"
   ]
  },
  {
   "cell_type": "markdown",
   "metadata": {},
   "source": [
    "### zip & enumerate"
   ]
  },
  {
   "cell_type": "code",
   "execution_count": 56,
   "metadata": {
    "scrolled": true
   },
   "outputs": [
    {
     "name": "stdout",
     "output_type": "stream",
     "text": [
      "a 5\n",
      "b 6\n",
      "c 7\n",
      "d 8\n",
      "\n",
      "0 a\n",
      "1 b\n",
      "2 c\n",
      "3 d\n",
      "\n",
      "start the counter from 2:\n",
      "2 w\n",
      "3 o\n",
      "4 r\n",
      "5 d\n"
     ]
    }
   ],
   "source": [
    "my_list1 = ['a', 'b', 'c', 'd']\n",
    "my_list2 = [5, 6, 7, 8]\n",
    "\n",
    "for elem1, elem2 in zip(my_list1, my_list2):\n",
    "    print(elem1, elem2)\n",
    "    \n",
    "print('')  \n",
    "for i, elem in enumerate(my_list1):\n",
    "    print(i, elem)\n",
    "\n",
    "print(\"\\nstart the counter from 2:\")\n",
    "for i, char in enumerate(\"word\", 2):\n",
    "    print(i, char)"
   ]
  },
  {
   "cell_type": "markdown",
   "metadata": {},
   "source": [
    "### Try and except"
   ]
  },
  {
   "cell_type": "code",
   "execution_count": 74,
   "metadata": {},
   "outputs": [
    {
     "name": "stdout",
     "output_type": "stream",
     "text": [
      "Enter a: 1\n",
      "Enter b: 0\n",
      "Please enter valid values. division by zero\n",
      "Finally!\n"
     ]
    }
   ],
   "source": [
    "a = int(input(\"Enter a: \"))\n",
    "b = int(input(\"Enter b: \"))\n",
    "\n",
    "try:\n",
    "    division = a / b\n",
    "    print(division)\n",
    "except ZeroDivisionError as err:   #except can be stated without specification (except:)\n",
    "    print(\"Please enter valid values.\", err)\n",
    "else:\n",
    "    print(\"Both values were valid.\")\n",
    "finally:  #finally always runs\n",
    "    print(\"Finally!\")"
   ]
  },
  {
   "cell_type": "markdown",
   "metadata": {},
   "source": [
    "### Object oriented ([source](https://www.freecodecamp.org/news/python-code-examples-sample-script-coding-tutorial-for-beginners/))"
   ]
  },
  {
   "cell_type": "code",
   "execution_count": 106,
   "metadata": {},
   "outputs": [
    {
     "name": "stdout",
     "output_type": "stream",
     "text": [
      "Animalia\n",
      "Canis lupus\n",
      "4 \n",
      "\n",
      "Calling getter\n",
      "Fred \n",
      "\n",
      "woof-woof- I'm Fred\n"
     ]
    }
   ],
   "source": [
    "class Dog:\n",
    "\n",
    "    # Class attributes\n",
    "    kingdom = \"Animalia\"\n",
    "    species = \"Canis lupus\"\n",
    "    \n",
    "    # Instance attributes\n",
    "    def __init__(self, name, age=1):\n",
    "        self._name = name  # Public attribute\n",
    "        self.age = age   # Non-Public attribute\n",
    "    \n",
    "    @property\n",
    "    def name(self):\n",
    "        print(\"Calling getter\")\n",
    "        return self._name\n",
    "\n",
    "    @name.setter\n",
    "    def name(self, new_name):\n",
    "        print(\"Calling setter\")\n",
    "        self._name = new_name\n",
    "\n",
    "    @name.deleter\n",
    "    def name(self):\n",
    "        print(\"Calling deleter\")\n",
    "        del self._name\n",
    "        \n",
    "    # Method\n",
    "    def bark(self, repeat=1):\n",
    "        print(f\"woof-\"*repeat,f\"I'm {self._name}\")\n",
    "        \n",
    "    \n",
    "\n",
    "my_dog = Dog(\"Fred\",4)\n",
    "print(Dog.kingdom)\n",
    "print(my_dog.species)\n",
    "print(my_dog.age,'\\n')\n",
    "print(my_dog.name,'\\n')\n",
    "my_dog.bark(2)"
   ]
  },
  {
   "cell_type": "markdown",
   "metadata": {},
   "source": [
    "<a href=#top>top</a>"
   ]
  },
  {
   "cell_type": "markdown",
   "metadata": {},
   "source": [
    "### Visualization"
   ]
  },
  {
   "cell_type": "code",
   "execution_count": 2,
   "metadata": {},
   "outputs": [
    {
     "name": "stdout",
     "output_type": "stream",
     "text": [
      "Automatic pdb calling has been turned ON\n"
     ]
    }
   ],
   "source": [
    "%pdb"
   ]
  },
  {
   "cell_type": "code",
   "execution_count": 6,
   "metadata": {},
   "outputs": [
    {
     "data": {
      "image/png": "[encoded data removed]",
      "text/plain": [
       "<Figure size 432x288 with 1 Axes>"
      ]
     },
     "metadata": {
      "image/png": {
       "height": 248,
       "width": 386
      },
      "needs_background": "light"
     },
     "output_type": "display_data"
    }
   ],
   "source": [
    "%matplotlib inline\n",
    "%config InlineBackend.figure_format = 'retina'\n",
    "\n",
    "import matplotlib.pyplot as plt\n",
    "import numpy as np\n",
    "\n",
    "x = np.linspace(0, 1, 300)\n",
    "for w in range(2, 8, 2):\n",
    "    plt.plot(x, np.sin(np.pi*x)*np.sin(2*w*np.pi*x))\n"
   ]
  },
  {
   "cell_type": "markdown",
   "metadata": {},
   "source": [
    "### ML Data Visualization [ref](https://machinelearningmastery.com/visualize-machine-learning-data-python-pandas)\n",
    "\n",
    "#### Histograms\n"
   ]
  },
  {
   "cell_type": "code",
   "execution_count": null,
   "metadata": {},
   "outputs": [],
   "source": []
  },
  {
   "cell_type": "markdown",
   "metadata": {},
   "source": [
    "------------------------------------------------------------------------------------------\n",
    " ## Random Functions <a id='random_functions'></a>"
   ]
  },
  {
   "cell_type": "markdown",
   "metadata": {},
   "source": [
    "### 1. Finding the lowest array index where arr[i]=i for a monotonically increasing sequence (<a href=\"https://www.pramp.com/challenge/jKoA5GAVy9Sr9jGBjz04\">pramp</a>)"
   ]
  },
  {
   "cell_type": "code",
   "execution_count": 1,
   "metadata": {
    "scrolled": true
   },
   "outputs": [
    {
     "data": {
      "text/plain": [
       "2"
      ]
     },
     "execution_count": 1,
     "metadata": {},
     "output_type": "execute_result"
    }
   ],
   "source": [
    "def indexEqualsValueSearch(arr):\n",
    "    start = 0\n",
    "    end = len(arr) - 1\n",
    "\n",
    "    while (start <= end):\n",
    "        i = round((start+end)/2)\n",
    "        if (arr[i] - i < 0):\n",
    "            start = i+1\n",
    "        elif (arr[i] - i == 0) and ((i == 0) or (arr[i-1] - (i-1) < 0)):\n",
    "            return i\n",
    "        else:\n",
    "            end = i-1\n",
    "\n",
    "    return -1\n",
    "\n",
    "#test\n",
    "arr = [-8,0,2,5]\n",
    "indexEqualsValueSearch(arr)"
   ]
  },
  {
   "cell_type": "markdown",
   "metadata": {},
   "source": [
    "### 2. Reading multiple input files into a DF [(Dennis)](https://medium.com/@dennisyd/how-i-made-6-000-in-10-minutes-using-data-science-8351701de1af?utm_source=pocket_mylist)"
   ]
  },
  {
   "cell_type": "code",
   "execution_count": 3,
   "metadata": {},
   "outputs": [],
   "source": [
    "#skip running without files\n",
    "\n",
    "import os, pandas as pd\n",
    "\n",
    "industries = [\"Finance\", \"Technology\"]\n",
    "\n",
    "list_of_files = dict ([ (file, os.sep.join((dir, file)))\n",
    "                        for (dir, dirs, files) in os.walk(path)\n",
    "                        for file in files \n",
    "                        if file[-4:] == '.csv' ])\n",
    "\n",
    "frames = []\n",
    "\n",
    "for key in list_of_files:\n",
    "    df = pd.read_csv(list_of_files.get(key), low_memory = False)\n",
    "    frames.append(df[df['Industry'].str.contains('|'.join(industries), na = False)].copy())\n",
    "    \n",
    "df = pd.concat(frames)\n",
    "df.head()\n"
   ]
  },
  {
   "cell_type": "markdown",
   "metadata": {},
   "source": [
    "### 3. Finding the index at which a list of words starts alphabetically ([IC](https://www.interviewcake.com/question/python/find-rotation-point))"
   ]
  },
  {
   "cell_type": "code",
   "execution_count": 22,
   "metadata": {},
   "outputs": [
    {
     "name": "stdout",
     "output_type": "stream",
     "text": [
      "['p', 'r', 's', 'u', 'x', 'a', 'b', 'b', 'e', 'k', 'o']\n",
      "the starting index is: 5\n"
     ]
    }
   ],
   "source": [
    "words = [\n",
    "    'ptolemaic',\n",
    "    'retrograde',\n",
    "    'supplant',\n",
    "    'undulate',\n",
    "    'xenoepist',\n",
    "    'asymptote',  # <-- rotates here!\n",
    "    'babka',\n",
    "    'banoffee',\n",
    "    'engender',\n",
    "    'karpatka',\n",
    "    'othellolagkage',\n",
    "]\n",
    "\n",
    "firstL = [word[0] for word in words]\n",
    "\n",
    "print(firstL)\n",
    "\n",
    "for i in range(len(firstL)-1):\n",
    "    if firstL[i+1]<firstL[i]:\n",
    "        print ('the starting index is:', i+1)\n"
   ]
  },
  {
   "cell_type": "code",
   "execution_count": 26,
   "metadata": {},
   "outputs": [
    {
     "data": {
      "text/plain": [
       "5"
      ]
     },
     "execution_count": 26,
     "metadata": {},
     "output_type": "execute_result"
    }
   ],
   "source": [
    "firstL.index('a') "
   ]
  },
  {
   "cell_type": "markdown",
   "metadata": {},
   "source": [
    "[top](#top)"
   ]
  },
  {
   "cell_type": "code",
   "execution_count": null,
   "metadata": {},
   "outputs": [],
   "source": []
  }
 ],
 "metadata": {
  "kernelspec": {
   "display_name": "Python 3",
   "language": "python",
   "name": "python3"
  },
  "language_info": {
   "codemirror_mode": {
    "name": "ipython",
    "version": 3
   },
   "file_extension": ".py",
   "mimetype": "text/x-python",
   "name": "python",
   "nbconvert_exporter": "python",
   "pygments_lexer": "ipython3",
   "version": "3.7.4"
  }
 },
 "nbformat": 4,
 "nbformat_minor": 2
}
