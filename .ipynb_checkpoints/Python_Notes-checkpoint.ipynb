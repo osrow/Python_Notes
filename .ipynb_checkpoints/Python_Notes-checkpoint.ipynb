{
 "cells": [
  {
   "cell_type": "markdown",
   "metadata": {},
   "source": [
    "# Python Notes"
   ]
  },
  {
   "cell_type": "markdown",
   "metadata": {},
   "source": [
    "<a id='top'></a>"
   ]
  },
  {
   "cell_type": "markdown",
   "metadata": {},
   "source": [
    "---\n",
    "<B><U>Contents:<br>\n",
    "* [Basics](#basics)\n",
    "* [Random Functions](#random_functions)\n",
    "\n",
    "--- "
   ]
  },
  {
   "cell_type": "markdown",
   "metadata": {},
   "source": [
    "<a id='basics'></a>"
   ]
  },
  {
   "cell_type": "markdown",
   "metadata": {},
   "source": [
    "<b>Basics"
   ]
  },
  {
   "cell_type": "markdown",
   "metadata": {},
   "source": [
    "<u>Cell Actions:</u>\n",
    "* Ctrl M: Markdown\n",
    "* A, B: Insert cell above, below\n",
    "    \n",
    "<u>Code Actions:</u>\n",
    "* Ctrl Enter: Run \n",
    "* Shift Enter: Run and go to the next cell\n",
    "* Ctrl /: Comment "
   ]
  },
  {
   "cell_type": "markdown",
   "metadata": {},
   "source": [
    "<a href=#top>top</a>"
   ]
  },
  {
   "cell_type": "markdown",
   "metadata": {},
   "source": [
    "------------------------------------------------------------------------------------------\n",
    "<a id='random_functions'></a>"
   ]
  },
  {
   "cell_type": "markdown",
   "metadata": {},
   "source": [
    "<b>Random Functions"
   ]
  },
  {
   "cell_type": "markdown",
   "metadata": {},
   "source": [
    "1. Finding the lowest array index where arr[i]=i for a monotonically increasing sequence (<a href=\"https://www.pramp.com/challenge/jKoA5GAVy9Sr9jGBjz04\">pramp</a>)"
   ]
  },
  {
   "cell_type": "code",
   "execution_count": 1,
   "metadata": {
    "scrolled": true
   },
   "outputs": [
    {
     "data": {
      "text/plain": [
       "2"
      ]
     },
     "execution_count": 1,
     "metadata": {},
     "output_type": "execute_result"
    }
   ],
   "source": [
    "def indexEqualsValueSearch(arr):\n",
    "    start = 0\n",
    "    end = len(arr) - 1\n",
    "\n",
    "    while (start <= end):\n",
    "        i = round((start+end)/2)\n",
    "        if (arr[i] - i < 0):\n",
    "            start = i+1\n",
    "        elif (arr[i] - i == 0) and ((i == 0) or (arr[i-1] - (i-1) < 0)):\n",
    "            return i\n",
    "        else:\n",
    "            end = i-1\n",
    "\n",
    "    return -1\n",
    "\n",
    "#test\n",
    "arr = [-8,0,2,5]\n",
    "indexEqualsValueSearch(arr)"
   ]
  },
  {
   "cell_type": "markdown",
   "metadata": {},
   "source": [
    "2. Reading multiple input files into a DF [(Dennis)](https://medium.com/@dennisyd/how-i-made-6-000-in-10-minutes-using-data-science-8351701de1af?utm_source=pocket_mylist)"
   ]
  },
  {
   "cell_type": "code",
   "execution_count": 3,
   "metadata": {},
   "outputs": [],
   "source": [
    "import os, pandas as pd\n",
    "\n",
    "industries = [\"Finance\", \"Technology\"]\n",
    "\n",
    "list_of_files = dict ([ (file, os.sep.join((dir, file)))\n",
    "                        for (dir, dirs, files) in os.walk(path)\n",
    "                        for file in files \n",
    "                        if file[-4:] == '.csv' ])\n",
    "\n",
    "frames = []\n",
    "\n",
    "for key in list_of_files:\n",
    "    df = pd.read_csv(list_of_files.get(key), low_memory = False)\n",
    "    frames.append(df[df['Industry'].str.contains('|'.join(industries), na = False)].copy())\n",
    "    \n",
    "df = pd.concat(frames)\n",
    "df.head()\n"
   ]
  },
  {
   "cell_type": "markdown",
   "metadata": {},
   "source": [
    "[top](#top)"
   ]
  },
  {
   "cell_type": "code",
   "execution_count": null,
   "metadata": {},
   "outputs": [],
   "source": []
  }
 ],
 "metadata": {
  "kernelspec": {
   "display_name": "Python 3",
   "language": "python",
   "name": "python3"
  },
  "language_info": {
   "codemirror_mode": {
    "name": "ipython",
    "version": 3
   },
   "file_extension": ".py",
   "mimetype": "text/x-python",
   "name": "python",
   "nbconvert_exporter": "python",
   "pygments_lexer": "ipython3",
   "version": "3.7.4"
  }
 },
 "nbformat": 4,
 "nbformat_minor": 2
}
